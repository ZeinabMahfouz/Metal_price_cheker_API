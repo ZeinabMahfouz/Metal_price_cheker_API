{
 "cells": [
  {
   "cell_type": "code",
   "execution_count": 1,
   "id": "16ccbb00-bac5-4838-9cce-6f2815c9fc54",
   "metadata": {},
   "outputs": [
    {
     "name": "stdout",
     "output_type": "stream",
     "text": [
      "Available metals:\n",
      " - XAU: Gold\n",
      " - XAG: Silver\n",
      " - XPT: Platinum\n",
      " - XPD: Palladium\n"
     ]
    },
    {
     "name": "stdin",
     "output_type": "stream",
     "text": [
      "\n",
      "Enter the metal code (e.g., XAU):  xpt\n"
     ]
    },
    {
     "name": "stdout",
     "output_type": "stream",
     "text": [
      "\n",
      "Common currency codes: USD, EUR, GBP, INR, JPY, etc.\n"
     ]
    },
    {
     "name": "stdin",
     "output_type": "stream",
     "text": [
      "Enter the currency code (e.g., USD):  eur\n"
     ]
    },
    {
     "name": "stdout",
     "output_type": "stream",
     "text": [
      "\n",
      " Current price of Platinum in EUR: 1190.44\n",
      " Price time: 2025-07-25 23:27:03 UTC\n"
     ]
    }
   ],
   "source": [
    "import requests\n",
    "from datetime import datetime\n",
    "\n",
    "\n",
    "api_key = \"goldapi-xv6ysmdiznsax-io\"\n",
    "base_url = \"https://www.goldapi.io/api\"\n",
    "\n",
    "\n",
    "metal_names = {\n",
    "    \"XAU\": \"Gold\",\n",
    "    \"XAG\": \"Silver\",\n",
    "    \"XPT\": \"Platinum\",\n",
    "    \"XPD\": \"Palladium\"\n",
    "}\n",
    "\n",
    "\n",
    "valid_currencies = [\n",
    "    \"USD\", \"EUR\", \"GBP\", \"INR\", \"JPY\",\n",
    "    \"CAD\", \"AUD\", \"CHF\", \"CNY\", \"NZD\"\n",
    "]\n",
    "\n",
    "def get_metal_price():\n",
    "    print(\"Available metals:\")\n",
    "    for code, name in metal_names.items():\n",
    "        print(f\" - {code}: {name}\")\n",
    "    \n",
    "    metal_code = input(\"\\nEnter the metal code (e.g., XAU): \").upper()\n",
    "\n",
    "    if metal_code not in metal_names:\n",
    "        print(\"❌ Invalid metal code. Please choose from XAU, XAG, XPT, XPD.\")\n",
    "        return\n",
    "\n",
    "    metal_name = metal_names[metal_code]\n",
    "\n",
    "    print(\"\\nCommon currency codes: USD, EUR, GBP, INR, JPY, etc.\")\n",
    "    currency = input(\"Enter the currency code (e.g., USD): \").upper()\n",
    "\n",
    "    if currency not in valid_currencies:\n",
    "        print(f\"Warning: '{currency}' is not in the list of common currencies. Trying it anyway...\")\n",
    "\n",
    "    \n",
    "    url = f\"{base_url}/{metal_code}/{currency}\"\n",
    "    headers = {\n",
    "        \"x-access-token\": api_key,\n",
    "        \"Content-Type\": \"application/json\"\n",
    "    }\n",
    "    response = requests.get(url, headers=headers)\n",
    "\n",
    "    if response.status_code == 200:\n",
    "        data = response.json()\n",
    "        price = data.get(\"price\")\n",
    "        timestamp = data.get(\"timestamp\")\n",
    "\n",
    "        \n",
    "        if timestamp:\n",
    "            dt = datetime.utcfromtimestamp(timestamp)\n",
    "            formatted_time = dt.strftime(\"%Y-%m-%d %H:%M:%S UTC\")\n",
    "        else:\n",
    "            formatted_time = \"Unknown\"\n",
    "\n",
    "        print(f\"\\n Current price of {metal_name} in {currency}: {price}\")\n",
    "        print(f\" Price time: {formatted_time}\")\n",
    "\n",
    "    elif response.status_code == 404:\n",
    "        print(f\"\\nThe currency '{currency}' or metal '{metal_code}' is not supported by the API.\")\n",
    "    elif response.status_code == 401:\n",
    "        print(\"\\n Unauthorized: Check your API key.\")\n",
    "    else:\n",
    "        print(f\"\\n Error {response.status_code}: {response.text}\")\n",
    "\n",
    "# Run the function\n",
    "get_metal_price()"
   ]
  },
  {
   "cell_type": "code",
   "execution_count": null,
   "id": "090a9a48-608b-4fd7-b63f-8d01675f5318",
   "metadata": {},
   "outputs": [],
   "source": []
  }
 ],
 "metadata": {
  "kernelspec": {
   "display_name": "Python 3 (ipykernel)",
   "language": "python",
   "name": "python3"
  },
  "language_info": {
   "codemirror_mode": {
    "name": "ipython",
    "version": 3
   },
   "file_extension": ".py",
   "mimetype": "text/x-python",
   "name": "python",
   "nbconvert_exporter": "python",
   "pygments_lexer": "ipython3",
   "version": "3.11.5"
  }
 },
 "nbformat": 4,
 "nbformat_minor": 5
}
